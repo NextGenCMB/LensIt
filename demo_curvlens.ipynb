{
 "cells": [
  {
   "cell_type": "markdown",
   "metadata": {},
   "source": [
    "# demo_curvlens\n",
    "\n",
    "This notebook shows how to generate a lensed CMB temperature map using the curvedskylensing module"
   ]
  },
  {
   "cell_type": "code",
   "execution_count": 11,
   "metadata": {},
   "outputs": [],
   "source": [
    "import lensit as li\n",
    "import healpy as hp\n",
    "from lensit.curvedskylensing import lenscurv\n",
    "%matplotlib inline"
   ]
  },
  {
   "cell_type": "code",
   "execution_count": 12,
   "metadata": {
    "collapsed": true
   },
   "outputs": [],
   "source": [
    "# parameters which impact of the accuracy of the result (and the execution time):\n",
    "\n",
    "lmax = 2048  # desired lmax of the lensed field.\n",
    "dlmax = 1024  # lmax of the unlensed fields is lmax + dlmax.  (some buffer is required for accurate lensing at lmax)\n",
    "nside_lens = 2048 # The lensed tlm's are computed with healpy map2alm from a lensed map at resolution 'nside_lens'\n",
    "facres = -1 # The lensed map of resolution is interpolated from a default high-res grid with about 0.7 amin-resolution\n",
    "            # The resolution is changed by 2 ** facres is this is set.\n",
    "    \n",
    "# lmax = 4096\n",
    "# lmax=1024\n",
    "# nside_lens=4096\n",
    "# facres=0 \n",
    "# is a choice of parameters that gives an lensed TT spectrum 1% accurate down to 4096."
   ]
  },
  {
   "cell_type": "code",
   "execution_count": 13,
   "metadata": {},
   "outputs": [
    {
     "name": "stdout",
     "output_type": "stream",
     "text": [
      "     [00:00:47]  (total [00:00:47]) healpy Spin 1 transform for displacement (full 2048 map)  lensit.curvedskylensing.lenscurv \n",
      "BAND 0 in 16 :\n",
      "input t1,t2 -0.320 6.033 in degrees\n",
      "North 19.959 and South 19.909 buffers in amin\n",
      "cell (theta,phi) in amin (1.996,1.109)\n",
      "BAND 1 in 16 :\n",
      "input t1,t2 5.214 11.659 in degrees\n",
      "North 20.140 and South 20.246 buffers in amin\n",
      "cell (theta,phi) in amin (2.025,1.066)\n",
      "BAND 2 in 16 :\n",
      "input t1,t2 10.814 17.338 in degrees\n",
      "North 20.496 and South 20.409 buffers in amin\n",
      "cell (theta,phi) in amin (2.050,0.786)\n",
      "BAND 3 in 16 :\n",
      "input t1,t2 16.456 22.928 in degrees\n",
      "North 20.332 and South 20.252 buffers in amin\n",
      "cell (theta,phi) in amin (2.033,1.027)\n",
      "BAND 4 in 16 :\n",
      "input t1,t2 22.061 28.536 in degrees\n",
      "North 20.294 and South 20.328 buffers in amin\n",
      "cell (theta,phi) in amin (2.034,1.260)\n",
      "BAND 5 in 16 :\n",
      "input t1,t2 27.654 34.197 in degrees\n",
      "North 20.408 and South 20.380 buffers in amin\n",
      "cell (theta,phi) in amin (2.055,1.482)\n",
      "BAND 6 in 16 :\n",
      "input t1,t2 33.328 39.805 in degrees\n",
      "North 20.316 and South 20.319 buffers in amin\n",
      "cell (theta,phi) in amin (2.035,0.844)\n",
      "BAND 7 in 16 :\n",
      "input t1,t2 38.960 45.433 in degrees\n",
      "North 20.241 and South 20.333 buffers in amin\n",
      "cell (theta,phi) in amin (2.033,0.939)\n",
      "BAND 8 in 16 :\n",
      "input t1,t2 44.551 51.080 in degrees\n",
      "North 20.510 and South 20.344 buffers in amin\n",
      "cell (theta,phi) in amin (2.051,1.026)\n",
      "BAND 9 in 16 :\n",
      "input t1,t2 50.192 56.682 in degrees\n",
      "North 20.360 and South 20.378 buffers in amin\n",
      "cell (theta,phi) in amin (2.039,1.102)\n",
      "BAND 10 in 16 :\n",
      "input t1,t2 55.839 62.298 in degrees\n",
      "North 20.278 and South 20.229 buffers in amin\n",
      "cell (theta,phi) in amin (2.029,1.167)\n",
      "BAND 11 in 16 :\n",
      "input t1,t2 61.440 67.930 in degrees\n",
      "North 20.387 and South 20.381 buffers in amin\n",
      "cell (theta,phi) in amin (2.039,1.222)\n",
      "BAND 12 in 16 :\n",
      "input t1,t2 67.077 73.574 in degrees\n",
      "North 20.287 and South 20.408 buffers in amin\n",
      "cell (theta,phi) in amin (2.041,1.265)\n",
      "BAND 13 in 16 :\n",
      "input t1,t2 72.684 79.182 in degrees\n",
      "North 20.411 and South 20.344 buffers in amin\n",
      "cell (theta,phi) in amin (2.041,1.295)\n",
      "BAND 14 in 16 :\n",
      "input t1,t2 78.310 84.792 in degrees\n",
      "North 20.322 and South 20.360 buffers in amin\n",
      "cell (theta,phi) in amin (2.036,1.313)\n",
      "BAND 15 in 16 :\n",
      "input t1,t2 83.934 90.443 in degrees\n",
      "North 20.447 and South 20.355 buffers in amin\n",
      "cell (theta,phi) in amin (2.045,1.318)\n",
      "     [00:00:38]  (total [00:01:25]) Total exec. time  lensit.curvedskylensing.lenscurv \n",
      "STATS for lmax tlm 3072 lmax dlm 3072\n",
      "              interp: 2.37\n",
      "                 vtm: 21.25\n",
      "         vtm2filtmap: 3.35\n",
      "    dx,dy (full sky): 47.29\n",
      "           pol. rot.: 0.00\n",
      "    dx,dy band split: 10.69\n",
      "                 tot: 85 sec.\n",
      "excl. defl. angle calc.: 27 sec.\n",
      "      Tot. int. pix.: 77856768 = 8823.6^2\n"
     ]
    }
   ],
   "source": [
    "# We first generate an unlensed temperature and lensing potential. \n",
    "# Here for simplicity we use healpy synalm, neglecting correlations between T and E.\n",
    "cl_unl, cl_len = li.get_fidcls()\n",
    "tlm_unl = hp.synalm(cl_unl['tt'], lmax=lmax + dlmax)\n",
    "plm = hp.synalm(cl_unl['pp'], lmax=lmax + dlmax)\n",
    "\n",
    "# We then transform the lensing potential into spin-1 deflection field, and deflect the temperature map.\n",
    "dlm = hp.almxfl(plm, np.sqrt(np.arange(lmax + 1, dtype=float) * np.arange(1, lmax + 2)))\n",
    "tlm_len  = lenscurv.lens_tlm(tlm_unl, dlm, nside=nside_lens, lmaxout=lmax, facres=facres)\n",
    "# NB: this line is equivalent to\n",
    "#    tmap_len  =  lencurv.tlm2lensmap(nside_lens, tlm_unl, dlm)\n",
    "#    tlm_len = hp.map2alm(tmap_len,lmax=lmax,iter=0)\n"
   ]
  },
  {
   "cell_type": "code",
   "execution_count": 17,
   "metadata": {},
   "outputs": [
    {
     "data": {
      "text/plain": [
       "<matplotlib.legend.Legend at 0x1254c0c90>"
      ]
     },
     "execution_count": 17,
     "metadata": {},
     "output_type": "execute_result"
    },
    {
     "data": {
      "image/png": "[encoded data removed]",
      "text/plain": [
       "<Figure size 432x288 with 1 Axes>"
      ]
     },
     "metadata": {},
     "output_type": "display_data"
    }
   ],
   "source": [
    "# Plot unlensed vs lensed spectrum.\n",
    "ell = np.arange(1, lmax + 1)\n",
    "pl.plot(ell, hp.alm2cl(tlm_len)[ell] /hp.alm2cl(tlm_unl)[ell], \n",
    "        label=r'$\\hat C_\\ell^{\\rm TT, len}/\\hat C_\\ell^{\\rm TT, unl}$')\n",
    "pl.plot(cl_len['tt'][ell] /cl_unl['tt'][ell], c='k', label='Prediction')\n",
    "pl.legend(fontsize=12)"
   ]
  }
 ],
 "metadata": {
  "anaconda-cloud": {},
  "kernelspec": {
   "display_name": "Python [Root]",
   "language": "python",
   "name": "Python [Root]"
  },
  "language_info": {
   "codemirror_mode": {
    "name": "ipython",
    "version": 2
   },
   "file_extension": ".py",
   "mimetype": "text/x-python",
   "name": "python",
   "nbconvert_exporter": "python",
   "pygments_lexer": "ipython2",
   "version": "2.7.13"
  }
 },
 "nbformat": 4,
 "nbformat_minor": 1
}
