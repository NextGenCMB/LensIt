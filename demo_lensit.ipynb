{
 "cells": [
  {
   "cell_type": "markdown",
   "metadata": {},
   "source": [
    "# Iterative lensing estimation demo (CMB-S4).\n",
    "\n",
    "This notebook goes through an example of lensing iterative reconstruction, from polarization Q and U CMB data, with noise level of 2.12 $\\mu$K-arcmin, on 650 square degrees, under ideal conditions (no masking, homogeneous noise, etc), with pixel size 1.5 arcmin. Specifically, we proceed as follows\n",
    "1. We build the quadratic estimator and initial curvature estimates\n",
    "2. We setup the iterator instance\n",
    "3. We perform the iterations\n",
    "4. We have a quick look at the quality of the lensing map reconstruction\n",
    "\n",
    "It should take or minute or so to perform all iterations from the starting point.\n",
    "\n",
    "Before starting, set the environment variable LENSIT to somewhere that is safe to write. A bunch of stuff might get cached."
   ]
  },
  {
   "cell_type": "code",
   "execution_count": 1,
   "metadata": {},
   "outputs": [
    {
     "name": "stdout",
     "output_type": "stream",
     "text": [
      "pbs.py : This looks like invocation on the laptop\n",
      "pbs.py : setup OK, rank 0 in 1\n"
     ]
    }
   ],
   "source": [
    "%matplotlib inline\n",
    "import lensit as li\n",
    "import os"
   ]
  },
  {
   "cell_type": "markdown",
   "metadata": {},
   "source": [
    "### 1. We build the quadratic estimator and initial curvature estimates:"
   ]
  },
  {
   "cell_type": "code",
   "execution_count": 2,
   "metadata": {},
   "outputs": [
    {
     "name": "stdout",
     "output_type": "stream",
     "text": [
      " I will be using data from ell=14 to ell=3000 only\n",
      " The sky band-limit is ell=6000\n",
      "     [00:00:00]  (total [00:00:00])   get_qlms::mult with len Pmat  \n",
      "     [00:00:00]  (total [00:00:00])   get_qlms::cartesian gradients  \n",
      "     [00:00:00]  (total [00:00:00])   get_qlms::rotation to phi Omega  \n"
     ]
    }
   ],
   "source": [
    "def get_starting_point(idx): \n",
    "    \"\"\"\n",
    "    This returns initial data for simulation index 'idx' from a CMB-S4 simulation library.\n",
    "    On first call the simulation library will generate all simulations phases, hence might take a little while.\n",
    "    \"\"\" \n",
    "    sims = li.get_maps_lib('S4', 10, 11) # Simulation-library for configuration 'S4'. \n",
    "                                         # Parameters 10, 11 produces data on 645 sq. deg, \n",
    "                                         # with lensed CMB's generated at 0.75 arcmin resolution, \n",
    "                                         # but data collected at 1.5 arcmin resolution. \n",
    "    \n",
    "    isocov = li.get_isocov('S4', 10, 11) # Isotropic filtering instance, that can used for Q.E. calculation\n",
    "                                         # and other things.isocov.lib_datalm defines the mode-filtering applied \n",
    "                                         # the data, and isocov.lib_skyalm the band-limits of the unlensed sky.\n",
    "    print(\" I will be using data from ell=%s to ell=%s only\"%(isocov.lib_datalm.ellmin, isocov.lib_datalm.ellmax))\n",
    "    print(\" The sky band-limit is ell=%s\"%(isocov.lib_skyalm.ellmax))\n",
    "    \n",
    "    lib_qlm = isocov.lib_skyalm #: This means we will reconstruct the lensing potential for all unlensed sky modes.\n",
    "    def cli(cl):\n",
    "        ret = np.zeros_like(cl)\n",
    "        ret[np.where(cl > 0)] = 1./cl[np.where(cl > 0)]\n",
    "        return ret\n",
    "    \n",
    "    # We now build the Wiener-filtered quadratic estimator. We use lensed CMB spectra in the weights.\n",
    "    datalms = np.array([isocov.lib_datalm.map2alm(m) for m in sims.get_sim_qumap(idx)]) \n",
    "    H0len =  cli(isocov.get_N0cls('QU', lib_qlm, use_cls_len=True)[0])\n",
    "    plm0 = 0.5 * isocov.get_qlms('QU',  isocov.get_iblms('QU', datalms, use_cls_len=True)[0], lib_qlm, use_cls_len=True)[0]\n",
    "    \n",
    "    # Normalization and Wiener-filtering:\n",
    "    cpp_prior = li.get_fidcls()[0]['pp'][:lib_qlm.ellmax+1]\n",
    "    lib_qlm.almxfl(plm0, cli(H0len + cli(cpp_prior)), inplace=True)\n",
    "    \n",
    "    # Initial likelihood curvature guess. We use here N0 as calculated with unlensed CMB spectra:\n",
    "    H0unl =  cli(isocov.get_N0cls('QU', lib_qlm, use_cls_len=False)[0])\n",
    "    return plm0, lib_qlm, datalms, isocov.lib_datalm, H0unl\n",
    "\n",
    "plm0, lib_qlm, datalms, lib_datalm, H0 = get_starting_point(0)"
   ]
  },
  {
   "cell_type": "markdown",
   "metadata": {},
   "source": [
    "### 2. We setup the iterator instance:"
   ]
  },
  {
   "cell_type": "code",
   "execution_count": 3,
   "metadata": {},
   "outputs": [
    {
     "name": "stdout",
     "output_type": "stream",
     "text": [
      " I see t 1.5\n",
      " I see q 2.121320343559643\n",
      " I see u 2.121320343559643\n",
      "ffs iterator : This is 0 trying to setup /Users/jcarron/PyCharmProjects/lensit/temp/iterator_S4_sim000\n",
      "++ ffs_QU_iterator: Caching qlm_norms and N0s /Users/jcarron/PyCharmProjects/lensit/temp/iterator_S4_sim000\n",
      "     cached /Users/jcarron/PyCharmProjects/lensit/temp/iterator_S4_sim000/qlm_P_H0.dat\n",
      "rank 0 caching  /Users/jcarron/PyCharmProjects/lensit/temp/iterator_S4_sim000/Phi_plm_it000.npy\n",
      "++ ffs_QU masked iterator : setup OK\n"
     ]
    }
   ],
   "source": [
    "def get_itlib(lib_dir, plm0, lib_qlm,  datalms, lib_datalm, H0, beam_fwhmamin=3., NlevT_filt=1.5, NlevP_filt=1.5 * np.sqrt(2.)):\n",
    "    \"\"\"\n",
    "    This returns an iterator instance from the input data maps, lensing map starting point,\n",
    "    likelihood curvature guess and choice of filtering parameters (ideally close to those of the data).\n",
    "    \"\"\"\n",
    "    if not os.path.exists(lib_dir): \n",
    "        os.makedirs(lib_dir)\n",
    "    # Prior on lensing power spectrum, and CMB spectra for the filtering at each iteration step.\n",
    "    cls_unl = li.get_fidcls(6000)[0]\n",
    "    cpp_prior = cls_unl['pp'][:]\n",
    "    \n",
    "    \n",
    "    lib_skyalm = li.ffs_covs.ell_mat.ffs_alm_pyFFTW(lib_datalm.ell_mat, filt_func=lambda ell:ell<=6000)\n",
    "                            #: This means we perform here the lensing of CMB skies at the same resolution \n",
    "                            #  than the data with the band-limit of 6000.\n",
    "    transf = hp.gauss_beam(beam_fwhmamin / 180. / 60. * np.pi, lmax=6000) #: fiducial beam\n",
    "    \n",
    "    # Anisotropic filtering instance, with unlensed CMB spectra as inputs. Delfections will be added by the iterator.\n",
    "    filt = li.qcinv.ffs_ninv_filt_ideal.ffs_ninv_filt(lib_datalm, lib_skyalm, cls_unl, transf, NlevT_filt,NlevP_filt)\n",
    "    \n",
    "    # Description of the multi-grid chain to use: (here the simplest, diagonal pre-conditioner) \n",
    "    chain_descr = li.qcinv.chain_samples.get_isomgchain(filt.lib_skyalm.ellmax,filt.lib_datalm.shape,\n",
    "                                                        tol=1e-6,iter_max=200)\n",
    "    \n",
    "    # We assume no primordial B-modes, the E-B filtering will assume all B-modes are either noise or lensing:\n",
    "    opfilt =  li.qcinv.opfilt_cinv_noBB\n",
    "    opfilt._type = 'QU' # We consider polarization only\n",
    "    \n",
    "    # With all this now in place, we can build the iterator instance:\n",
    "    iterator = li.ffs_iterators.ffs_iterator.ffs_iterator_pertMF(lib_dir, 'QU', filt, datalms, lib_qlm, \n",
    "              plm0, H0, cpp_prior, chain_descr=chain_descr, opfilt=opfilt, verbose=True)\n",
    "               # We use here an iterator instance that uses an analytical approximation \n",
    "               # for the mean-field term at each step.\n",
    "    return iterator\n",
    "\n",
    "\n",
    "lib_dir = os.path.join(os.environ['LENSIT'], 'temp', 'iterator_S4_sim%03d'%0)\n",
    "itlib = get_itlib(lib_dir, plm0, lib_qlm, datalms, lib_datalm, H0)"
   ]
  },
  {
   "cell_type": "markdown",
   "metadata": {},
   "source": [
    "### 3. We perform the iterations:\n",
    "This should take about ~ 1 min. to finish. A lot of print-out in verbose mode."
   ]
  },
  {
   "cell_type": "code",
   "execution_count": null,
   "metadata": {},
   "outputs": [
    {
     "name": "stdout",
     "output_type": "stream",
     "text": [
      "rank 0 caching displacement comp. for it. 0 for key p\n",
      "rank 0, ffs_deflect::buffers size, chk_shape (18, 22) [1024 1024]\n",
      "rank 0 inverting displacement it. 0 for key p\n",
      " [00:00:01] ffs_deflect::calculating inverse displ. field > 00%\n",
      "rank 0, ffs_deflect::buffers size, chk_shape (18, 22) [1024 1024]\n",
      "rank 0 caching  /Users/jcarron/PyCharmProjects/lensit/temp/iterator_S4_sim000/qlm_gradPpri_it000.npy\n",
      "     get_Pmatinv:: cached /Users/jcarron/PyCharmProjects/lensit/temp/iterator_S4_sim000/isocov/QU_Pmatinv_unl_00.npy\n",
      "     get_Pmatinv:: cached /Users/jcarron/PyCharmProjects/lensit/temp/iterator_S4_sim000/isocov/QU_Pmatinv_unl_10.npy\n",
      "     get_Pmatinv:: cached /Users/jcarron/PyCharmProjects/lensit/temp/iterator_S4_sim000/isocov/QU_Pmatinv_unl_11.npy\n",
      "Cached  /Users/jcarron/PyCharmProjects/lensit/temp/iterator_S4_sim000/isocov/QU_MFresplm_unl.npy\n",
      "rank 0 caching  /Users/jcarron/PyCharmProjects/lensit/temp/iterator_S4_sim000/qlm_gradPdet_it000.npy\n",
      "rank 0, ffs_deflect::buffers size, chk_shape (18, 22) [1024 1024]\n",
      "rank 0, ffs_deflect::buffers size, chk_shape (18, 22) [1024 1024]\n",
      "This is calc prep for QU W. Filtering cinv_noBB\n",
      "(1024, 6000) [00:00:00] (0, 1.0000000000)\n",
      "(1024, 6000) [00:00:01] (1, 0.0801658272)\n",
      "(1024, 6000) [00:00:01] (2, 0.0110115970)\n",
      "(1024, 6000) [00:00:02] (3, 0.0021796020)\n",
      "(1024, 6000) [00:00:02] (4, 0.0005044345)\n",
      "(1024, 6000) [00:00:03] (5, 0.0001269575)\n",
      "(1024, 6000) [00:00:04] (6, 0.0000331453)\n",
      "(1024, 6000) [00:00:04] (7, 0.0000088653)\n",
      "(1024, 6000) [00:00:05] (8, 0.0000024511)\n",
      "(1024, 6000) [00:00:05] (9, 0.0000006939)\n",
      "rank 0 caching  /Users/jcarron/PyCharmProjects/lensit/temp/iterator_S4_sim000/MAPlms/Mlik_p_it0.npy\n",
      "rank 0, ffs_deflect::buffers size, chk_shape (18, 22) [1024 1024]\n",
      "rank 0, ffs_deflect::buffers size, chk_shape (18, 22) [1024 1024]\n",
      "rank 0, ffs_deflect::buffers size, chk_shape (18, 22) [1024 1024]\n",
      "rank 0 caching  /Users/jcarron/PyCharmProjects/lensit/temp/iterator_S4_sim000/qlm_gradPlik_it000.npy\n",
      "rank 0 calculating descent direction\n",
      "rank 0 caching  /Users/jcarron/PyCharmProjects/lensit/temp/iterator_S4_sim000/Hessian/rlm_sn_0_p.npy\n",
      " [00:00:00]  Exec. time for descent direction calculation\n",
      "rank 0 caching  /Users/jcarron/PyCharmProjects/lensit/temp/iterator_S4_sim000/Phi_plm_it001.npy\n",
      "     removed : /Users/jcarron/PyCharmProjects/lensit/temp/iterator_S4_sim000/f_p_it000_dx.npy\n",
      "     removed : /Users/jcarron/PyCharmProjects/lensit/temp/iterator_S4_sim000/f_p_it000_dy.npy\n",
      "     removed : /Users/jcarron/PyCharmProjects/lensit/temp/iterator_S4_sim000/finv_p_it000_dx.npy\n",
      "     removed : /Users/jcarron/PyCharmProjects/lensit/temp/iterator_S4_sim000/finv_p_it000_dy.npy\n",
      "Removed : /Users/jcarron/PyCharmProjects/lensit/temp/iterator_S4_sim000/f_0000_libdir\n",
      "Removed : /Users/jcarron/PyCharmProjects/lensit/temp/iterator_S4_sim000/finv_0000_libdir\n",
      "rank 0 caching displacement comp. for it. 1 for key p\n",
      "rank 0, ffs_deflect::buffers size, chk_shape (17, 19) [1024 1024]\n",
      "rank 0 inverting displacement it. 1 for key p\n",
      " [00:00:01] ffs_deflect::calculating inverse displ. field > 00%\n",
      "rank 0, ffs_deflect::buffers size, chk_shape (17, 19) [1024 1024]\n",
      "rank 0 caching  /Users/jcarron/PyCharmProjects/lensit/temp/iterator_S4_sim000/qlm_gradPpri_it001.npy\n",
      "rank 0 caching  /Users/jcarron/PyCharmProjects/lensit/temp/iterator_S4_sim000/qlm_gradPdet_it001.npy\n",
      "rank 0, ffs_deflect::buffers size, chk_shape (17, 19) [1024 1024]\n",
      "rank 0, ffs_deflect::buffers size, chk_shape (17, 19) [1024 1024]\n",
      "rank 0 loading  /Users/jcarron/PyCharmProjects/lensit/temp/iterator_S4_sim000/MAPlms/Mlik_p_it0.npy\n",
      "This is calc prep for QU W. Filtering cinv_noBB\n",
      "(1024, 6000) [00:00:00] (0, 0.0747390962)\n",
      "(1024, 6000) [00:00:01] (1, 0.0063205216)\n",
      "(1024, 6000) [00:00:01] (2, 0.0008460893)\n",
      "(1024, 6000) [00:00:02] (3, 0.0001494372)\n",
      "(1024, 6000) [00:00:02] (4, 0.0000305293)\n",
      "(1024, 6000) [00:00:03] (5, 0.0000064772)\n",
      "(1024, 6000) [00:00:04] (6, 0.0000013734)\n",
      "(1024, 6000) [00:00:04] (7, 0.0000002914)\n",
      "rank 0 caching  /Users/jcarron/PyCharmProjects/lensit/temp/iterator_S4_sim000/MAPlms/Mlik_p_it1.npy\n",
      "rank 0, ffs_deflect::buffers size, chk_shape (17, 19) [1024 1024]\n",
      "rank 0, ffs_deflect::buffers size, chk_shape (17, 19) [1024 1024]\n",
      "rank 0, ffs_deflect::buffers size, chk_shape (17, 19) [1024 1024]\n",
      "rank 0 caching  /Users/jcarron/PyCharmProjects/lensit/temp/iterator_S4_sim000/qlm_gradPlik_it001.npy\n",
      "rank 0 caching  /Users/jcarron/PyCharmProjects/lensit/temp/iterator_S4_sim000/Hessian/rlm_yn_0_p.npy\n",
      "Linked y vector  /Users/jcarron/PyCharmProjects/lensit/temp/iterator_S4_sim000/Hessian/rlm_yn_0_p.npy  to Hessian\n",
      "Linked s vector  /Users/jcarron/PyCharmProjects/lensit/temp/iterator_S4_sim000/Hessian/rlm_sn_0_p.npy  to Hessian\n",
      "rank 0 calculating descent direction\n",
      "rank 0 caching  /Users/jcarron/PyCharmProjects/lensit/temp/iterator_S4_sim000/Hessian/rlm_sn_1_p.npy\n",
      " [00:00:00]  Exec. time for descent direction calculation\n",
      "rank 0 caching  /Users/jcarron/PyCharmProjects/lensit/temp/iterator_S4_sim000/Phi_plm_it002.npy\n",
      "     removed : /Users/jcarron/PyCharmProjects/lensit/temp/iterator_S4_sim000/f_p_it001_dx.npy\n",
      "     removed : /Users/jcarron/PyCharmProjects/lensit/temp/iterator_S4_sim000/f_p_it001_dy.npy\n",
      "     removed : /Users/jcarron/PyCharmProjects/lensit/temp/iterator_S4_sim000/finv_p_it001_dx.npy\n",
      "     removed : /Users/jcarron/PyCharmProjects/lensit/temp/iterator_S4_sim000/finv_p_it001_dy.npy\n",
      "Removed : /Users/jcarron/PyCharmProjects/lensit/temp/iterator_S4_sim000/f_0001_libdir\n",
      "Removed : /Users/jcarron/PyCharmProjects/lensit/temp/iterator_S4_sim000/finv_0001_libdir\n",
      "rank 0 caching displacement comp. for it. 2 for key p\n",
      "rank 0, ffs_deflect::buffers size, chk_shape (18, 19) [1024 1024]\n",
      "rank 0 inverting displacement it. 2 for key p\n",
      " [00:00:01] ffs_deflect::calculating inverse displ. field > 00%\n",
      "rank 0, ffs_deflect::buffers size, chk_shape (18, 19) [1024 1024]\n",
      "rank 0 caching  /Users/jcarron/PyCharmProjects/lensit/temp/iterator_S4_sim000/qlm_gradPpri_it002.npy\n",
      "rank 0 caching  /Users/jcarron/PyCharmProjects/lensit/temp/iterator_S4_sim000/qlm_gradPdet_it002.npy\n",
      "rank 0, ffs_deflect::buffers size, chk_shape (18, 19) [1024 1024]\n",
      "rank 0, ffs_deflect::buffers size, chk_shape (18, 19) [1024 1024]\n",
      "rank 0 loading  /Users/jcarron/PyCharmProjects/lensit/temp/iterator_S4_sim000/MAPlms/Mlik_p_it1.npy\n",
      "This is calc prep for QU W. Filtering cinv_noBB\n",
      "(1024, 6000) [00:00:00] (0, 0.0186707893)\n",
      "(1024, 6000) [00:00:01] (1, 0.0016512939)\n",
      "(1024, 6000) [00:00:01] (2, 0.0002242562)\n",
      "(1024, 6000) [00:00:02] (3, 0.0000389942)\n",
      "(1024, 6000) [00:00:03] (4, 0.0000077745)\n",
      "(1024, 6000) [00:00:03] (5, 0.0000016807)\n",
      "(1024, 6000) [00:00:04] (6, 0.0000003811)\n",
      "rank 0 caching  /Users/jcarron/PyCharmProjects/lensit/temp/iterator_S4_sim000/MAPlms/Mlik_p_it2.npy\n",
      "rank 0, ffs_deflect::buffers size, chk_shape (18, 19) [1024 1024]\n",
      "rank 0, ffs_deflect::buffers size, chk_shape (18, 19) [1024 1024]\n",
      "rank 0, ffs_deflect::buffers size, chk_shape (18, 19) [1024 1024]\n",
      "rank 0 caching  /Users/jcarron/PyCharmProjects/lensit/temp/iterator_S4_sim000/qlm_gradPlik_it002.npy\n",
      "rank 0 caching  /Users/jcarron/PyCharmProjects/lensit/temp/iterator_S4_sim000/Hessian/rlm_yn_1_p.npy\n",
      "Linked y vector  /Users/jcarron/PyCharmProjects/lensit/temp/iterator_S4_sim000/Hessian/rlm_yn_0_p.npy  to Hessian\n",
      "Linked s vector  /Users/jcarron/PyCharmProjects/lensit/temp/iterator_S4_sim000/Hessian/rlm_sn_0_p.npy  to Hessian\n",
      "Linked y vector  /Users/jcarron/PyCharmProjects/lensit/temp/iterator_S4_sim000/Hessian/rlm_yn_1_p.npy  to Hessian\n",
      "Linked s vector  /Users/jcarron/PyCharmProjects/lensit/temp/iterator_S4_sim000/Hessian/rlm_sn_1_p.npy  to Hessian\n",
      "rank 0 calculating descent direction\n",
      "rank 0 caching  /Users/jcarron/PyCharmProjects/lensit/temp/iterator_S4_sim000/Hessian/rlm_sn_2_p.npy\n",
      " [00:00:00]  Exec. time for descent direction calculation\n",
      "rank 0 caching  /Users/jcarron/PyCharmProjects/lensit/temp/iterator_S4_sim000/Phi_plm_it003.npy\n",
      "     removed : /Users/jcarron/PyCharmProjects/lensit/temp/iterator_S4_sim000/f_p_it002_dx.npy\n",
      "     removed : /Users/jcarron/PyCharmProjects/lensit/temp/iterator_S4_sim000/f_p_it002_dy.npy\n",
      "     removed : /Users/jcarron/PyCharmProjects/lensit/temp/iterator_S4_sim000/finv_p_it002_dx.npy\n",
      "     removed : /Users/jcarron/PyCharmProjects/lensit/temp/iterator_S4_sim000/finv_p_it002_dy.npy\n",
      "Removed : /Users/jcarron/PyCharmProjects/lensit/temp/iterator_S4_sim000/f_0002_libdir\n",
      "Removed : /Users/jcarron/PyCharmProjects/lensit/temp/iterator_S4_sim000/finv_0002_libdir\n",
      "rank 0 caching displacement comp. for it. 3 for key p\n",
      "rank 0, ffs_deflect::buffers size, chk_shape (19, 20) [1024 1024]\n",
      "rank 0 inverting displacement it. 3 for key p\n"
     ]
    },
    {
     "name": "stdout",
     "output_type": "stream",
     "text": [
      " [00:00:01] ffs_deflect::calculating inverse displ. field > 00%\n",
      "rank 0, ffs_deflect::buffers size, chk_shape (19, 20) [1024 1024]\n",
      "rank 0 caching  /Users/jcarron/PyCharmProjects/lensit/temp/iterator_S4_sim000/qlm_gradPpri_it003.npy\n",
      "rank 0 caching  /Users/jcarron/PyCharmProjects/lensit/temp/iterator_S4_sim000/qlm_gradPdet_it003.npy\n",
      "rank 0, ffs_deflect::buffers size, chk_shape (19, 20) [1024 1024]\n",
      "rank 0, ffs_deflect::buffers size, chk_shape (19, 20) [1024 1024]\n",
      "rank 0 loading  /Users/jcarron/PyCharmProjects/lensit/temp/iterator_S4_sim000/MAPlms/Mlik_p_it2.npy\n",
      "This is calc prep for QU W. Filtering cinv_noBB\n",
      "(1024, 6000) [00:00:00] (0, 0.0184406263)\n",
      "(1024, 6000) [00:00:01] (1, 0.0016744824)\n",
      "(1024, 6000) [00:00:01] (2, 0.0002433826)\n",
      "(1024, 6000) [00:00:02] (3, 0.0000463322)\n",
      "(1024, 6000) [00:00:02] (4, 0.0000103845)\n",
      "(1024, 6000) [00:00:03] (5, 0.0000024999)\n",
      "(1024, 6000) [00:00:04] (6, 0.0000005956)\n",
      "rank 0 caching  /Users/jcarron/PyCharmProjects/lensit/temp/iterator_S4_sim000/MAPlms/Mlik_p_it3.npy\n",
      "rank 0, ffs_deflect::buffers size, chk_shape (19, 20) [1024 1024]\n",
      "rank 0, ffs_deflect::buffers size, chk_shape (19, 20) [1024 1024]\n",
      "rank 0, ffs_deflect::buffers size, chk_shape (19, 20) [1024 1024]\n",
      "rank 0 caching  /Users/jcarron/PyCharmProjects/lensit/temp/iterator_S4_sim000/qlm_gradPlik_it003.npy\n",
      "rank 0 caching  /Users/jcarron/PyCharmProjects/lensit/temp/iterator_S4_sim000/Hessian/rlm_yn_2_p.npy\n",
      "Linked y vector  /Users/jcarron/PyCharmProjects/lensit/temp/iterator_S4_sim000/Hessian/rlm_yn_0_p.npy  to Hessian\n",
      "Linked s vector  /Users/jcarron/PyCharmProjects/lensit/temp/iterator_S4_sim000/Hessian/rlm_sn_0_p.npy  to Hessian\n",
      "Linked y vector  /Users/jcarron/PyCharmProjects/lensit/temp/iterator_S4_sim000/Hessian/rlm_yn_1_p.npy  to Hessian\n",
      "Linked s vector  /Users/jcarron/PyCharmProjects/lensit/temp/iterator_S4_sim000/Hessian/rlm_sn_1_p.npy  to Hessian\n",
      "Linked y vector  /Users/jcarron/PyCharmProjects/lensit/temp/iterator_S4_sim000/Hessian/rlm_yn_2_p.npy  to Hessian\n",
      "Linked s vector  /Users/jcarron/PyCharmProjects/lensit/temp/iterator_S4_sim000/Hessian/rlm_sn_2_p.npy  to Hessian\n",
      "rank 0 calculating descent direction\n",
      "rank 0 caching  /Users/jcarron/PyCharmProjects/lensit/temp/iterator_S4_sim000/Hessian/rlm_sn_3_p.npy\n",
      " [00:00:00]  Exec. time for descent direction calculation\n",
      "rank 0 caching  /Users/jcarron/PyCharmProjects/lensit/temp/iterator_S4_sim000/Phi_plm_it004.npy\n",
      "     removed : /Users/jcarron/PyCharmProjects/lensit/temp/iterator_S4_sim000/f_p_it003_dx.npy\n",
      "     removed : /Users/jcarron/PyCharmProjects/lensit/temp/iterator_S4_sim000/f_p_it003_dy.npy\n",
      "     removed : /Users/jcarron/PyCharmProjects/lensit/temp/iterator_S4_sim000/finv_p_it003_dx.npy\n",
      "     removed : /Users/jcarron/PyCharmProjects/lensit/temp/iterator_S4_sim000/finv_p_it003_dy.npy\n",
      "Removed : /Users/jcarron/PyCharmProjects/lensit/temp/iterator_S4_sim000/f_0003_libdir\n",
      "Removed : /Users/jcarron/PyCharmProjects/lensit/temp/iterator_S4_sim000/finv_0003_libdir\n",
      "rank 0 caching displacement comp. for it. 4 for key p\n",
      "rank 0, ffs_deflect::buffers size, chk_shape (19, 21) [1024 1024]\n",
      "rank 0 inverting displacement it. 4 for key p\n"
     ]
    }
   ],
   "source": [
    "itlib.soltn_cond = True\n",
    "for i in range(10):\n",
    "    itlib.iterate(i, 'p')"
   ]
  },
  {
   "cell_type": "markdown",
   "metadata": {},
   "source": [
    "### 4. We have a quick look at the quality of the lensing map reconstruction:\n",
    "We plot the binned power spectrum of the residual map\n",
    "$$\n",
    "\\hat \\phi - \\phi^{\\rm input}\n",
    "$$\n"
   ]
  },
  {
   "cell_type": "code",
   "execution_count": null,
   "metadata": {},
   "outputs": [],
   "source": [
    "ell, = np.where(itlib.lib_qlm.get_Nell()[:3001])\n",
    "w = lambda ell : ell ** 2 * (ell + 1.) ** 2 /2./np.pi * 1e7\n",
    "edges = np.arange(0, 3100, 100)\n",
    "bl = edges[:-1];bu = edges[1:] \n",
    "\n",
    "sims = li.get_maps_lib('S4', 10, 11)\n",
    "plm_input = itlib.lib_qlm.udgrade(sims.lencmbs.lib_skyalm, sims.lencmbs.get_sim_plm(0))\n",
    "bnd_cl = lambda cl : li.misc.misc_utils.binned(cl, ell, bl, bu, w=w, return_err=True)\n",
    "pl.figure(figsize= (12,9))\n",
    "for it in range(10):\n",
    "    cl, err = bnd_cl(itlib.lib_qlm.alm2cl(itlib.get_Plm(it, 'p') - plm_input)) \n",
    "    pl.errorbar(0.5 * bl + 0.5 * bu, cl, yerr=err, label='Iter. %s'%it + (it == 0) * ' (Q.E.)')\n",
    "pl.plot(ell, li.get_fidcls()[0]['pp'][ell] * w(ell), c='k', label=r'$C_L^{\\phi\\phi, \\rm fid}$')\n",
    "pl.ylabel(r'$10^7\\: L^2(L + 1)^2 C^{\\hat \\phi - \\phi^{\\rm in}}_L /2 \\pi$', fontsize=20)\n",
    "pl.xlabel(r'$L$', fontsize=14)\n",
    "pl.legend(ncol=3, fontsize=14)\n",
    "pl.semilogy()\n",
    "\n"
   ]
  },
  {
   "cell_type": "markdown",
   "metadata": {},
   "source": [
    "### This file contains very crude information on the iterator work and likelihood gradient amplitudes:"
   ]
  },
  {
   "cell_type": "code",
   "execution_count": null,
   "metadata": {},
   "outputs": [],
   "source": [
    "cat /Users/jcarron/PyCharmProjects/lensit/temp/iterator_S4_sim000/history_increment.txt"
   ]
  },
  {
   "cell_type": "markdown",
   "metadata": {},
   "source": [
    "### Lensing maps: \n",
    "we plot the deflection $\\hat \\alpha_{LM} = \\sqrt{L (L + 1)} \\hat \\phi_{LM}$"
   ]
  },
  {
   "cell_type": "code",
   "execution_count": null,
   "metadata": {},
   "outputs": [],
   "source": [
    "plm2alphalm = lambda plm : lib_qlm.almxfl(plm, np.arange(lib_qlm.ellmax + 1))\n",
    "fig, ax = pl.subplots(1, 3, figsize=(18, 6),)\n",
    "vmax = np.max(np.abs(lib_qlm.alm2map(plm2alphalm(plm_input))))\n",
    "ax[0].imshow(lib_qlm.alm2map(plm2alphalm(itlib.get_Plm(0, 'p'))), vmax=vmax, vmin=-vmax)\n",
    "ax[1].imshow(lib_qlm.alm2map(plm2alphalm(itlib.get_Plm(9, 'p'))), vmax=vmax, vmin=-vmax)\n",
    "ax[2].imshow(lib_qlm.alm2map(plm2alphalm(plm_input)), vmax=vmax, vmin=-vmax)\n",
    "ax[0].set_title(r'$\\hat \\alpha^{Q.E.}$', fontsize=20), ax[0].axis('off')\n",
    "ax[1].set_title(r'$\\hat \\alpha^{Iter}$', fontsize=20), ax[1].axis('off')\n",
    "ax[2].set_title(r'$\\alpha^{\\rm input}$', fontsize=20), ax[2].axis('off')"
   ]
  },
  {
   "cell_type": "code",
   "execution_count": null,
   "metadata": {
    "collapsed": true
   },
   "outputs": [],
   "source": []
  }
 ],
 "metadata": {
  "kernelspec": {
   "display_name": "Python [anaconda]",
   "language": "python",
   "name": "Python [anaconda]"
  },
  "language_info": {
   "codemirror_mode": {
    "name": "ipython",
    "version": 2
   },
   "file_extension": ".py",
   "mimetype": "text/x-python",
   "name": "python",
   "nbconvert_exporter": "python",
   "pygments_lexer": "ipython2",
   "version": "2.7.13"
  }
 },
 "nbformat": 4,
 "nbformat_minor": 2
}
